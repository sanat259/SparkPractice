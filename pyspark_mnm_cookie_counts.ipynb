{
  "nbformat": 4,
  "nbformat_minor": 0,
  "metadata": {
    "colab": {
      "name": "pyspark_mnm_cookie_counts.ipynb",
      "provenance": [],
      "collapsed_sections": [],
      "authorship_tag": "ABX9TyNXkZOrItatcc0CgNw2Ccn6",
      "include_colab_link": true
    },
    "kernelspec": {
      "name": "python3",
      "display_name": "Python 3"
    },
    "language_info": {
      "name": "python"
    }
  },
  "cells": [
    {
      "cell_type": "markdown",
      "metadata": {
        "id": "view-in-github",
        "colab_type": "text"
      },
      "source": [
        "<a href=\"https://colab.research.google.com/github/sanat259/SparkPractice/blob/main/pyspark_mnm_cookie_counts.ipynb\" target=\"_parent\"><img src=\"https://colab.research.google.com/assets/colab-badge.svg\" alt=\"Open In Colab\"/></a>"
      ]
    },
    {
      "cell_type": "code",
      "metadata": {
        "colab": {
          "base_uri": "https://localhost:8080/"
        },
        "id": "MRAzBBtBMddQ",
        "outputId": "b1cdbbf0-4f96-414a-c1ba-77c5f1c22c03"
      },
      "source": [
        "!pip install pyspark\n"
      ],
      "execution_count": 1,
      "outputs": [
        {
          "output_type": "stream",
          "text": [
            "Requirement already satisfied: pyspark in /usr/local/lib/python3.7/dist-packages (3.1.1)\n",
            "Requirement already satisfied: py4j==0.10.9 in /usr/local/lib/python3.7/dist-packages (from pyspark) (0.10.9)\n"
          ],
          "name": "stdout"
        }
      ]
    },
    {
      "cell_type": "code",
      "metadata": {
        "id": "oN0ORLMNMfxa"
      },
      "source": [
        "import sys\n",
        "from pyspark.sql import SparkSession\n",
        "from pyspark.sql.functions import count\n",
        "from pyspark import SparkFiles"
      ],
      "execution_count": 2,
      "outputs": []
    },
    {
      "cell_type": "code",
      "metadata": {
        "id": "B945G0VhPenW"
      },
      "source": [
        "#file_url=\"https://raw.githubusercontent.com/databricks/LearningSparkV2/master/chapter2/py/src/data/mnm_dataset.csv\""
      ],
      "execution_count": 3,
      "outputs": []
    },
    {
      "cell_type": "code",
      "metadata": {
        "id": "xUrwJW4YP2rf"
      },
      "source": [
        "spark = SparkSession.builder.appName(\"My cokies\").getOrCreate()\n",
        "#spark.sparkContext.addFile(file_url)\n"
      ],
      "execution_count": 4,
      "outputs": []
    },
    {
      "cell_type": "code",
      "metadata": {
        "id": "yPBXswR2P8yy"
      },
      "source": [
        "mnm_df = spark.read.format(\"csv\").option(\"header\", \"true\").option(\"inferSchema\", \"true\").load(\"/content/mnm_dataset.csv\")\n",
        "#mnm_df = spark.read.csv(\"file:///content/mnm_dataset.csv\", header=True, inferSchema= True)\n"
      ],
      "execution_count": 5,
      "outputs": []
    },
    {
      "cell_type": "code",
      "metadata": {
        "colab": {
          "base_uri": "https://localhost:8080/"
        },
        "id": "Rf0Jfh4uP8vO",
        "outputId": "dacedc8e-6809-4e55-8b73-633a0099edca"
      },
      "source": [
        "mnm_df.head(2)"
      ],
      "execution_count": 7,
      "outputs": [
        {
          "output_type": "execute_result",
          "data": {
            "text/plain": [
              "[Row(State='TX', Color='Red', Count=20),\n",
              " Row(State='NV', Color='Blue', Count=66)]"
            ]
          },
          "metadata": {
            "tags": []
          },
          "execution_count": 7
        }
      ]
    },
    {
      "cell_type": "code",
      "metadata": {
        "id": "vMOndC6nP8qh"
      },
      "source": [
        "state_wise_counts= mnm_df.select('*').groupBy('State','Color').agg(count(\"Count\").alias(\"Total\")).orderBy(\"Total\", ascending=False)\n",
        "\n",
        "# Show the resulting aggregations for all"
      ],
      "execution_count": 17,
      "outputs": []
    },
    {
      "cell_type": "code",
      "metadata": {
        "colab": {
          "base_uri": "https://localhost:8080/"
        },
        "id": "LeO--sqsP8ei",
        "outputId": "00b994af-b276-4dcf-af5e-0165420bc833"
      },
      "source": [
        "state_wise_counts.show(n=30, truncate=False)\n",
        "print(\"Total Rows={}\".format(state_wise_counts.count()))"
      ],
      "execution_count": 19,
      "outputs": [
        {
          "output_type": "stream",
          "text": [
            "+-----+------+-----+\n",
            "|State|Color |Total|\n",
            "+-----+------+-----+\n",
            "|CA   |Yellow|1807 |\n",
            "|WA   |Green |1779 |\n",
            "|OR   |Orange|1743 |\n",
            "|TX   |Green |1737 |\n",
            "|TX   |Red   |1725 |\n",
            "|CA   |Green |1723 |\n",
            "|CO   |Yellow|1721 |\n",
            "|CA   |Brown |1718 |\n",
            "|CO   |Green |1713 |\n",
            "|NV   |Orange|1712 |\n",
            "|TX   |Yellow|1703 |\n",
            "|NV   |Green |1698 |\n",
            "|AZ   |Brown |1698 |\n",
            "|WY   |Green |1695 |\n",
            "|CO   |Blue  |1695 |\n",
            "|NM   |Red   |1690 |\n",
            "|AZ   |Orange|1689 |\n",
            "|NM   |Yellow|1688 |\n",
            "|NM   |Brown |1687 |\n",
            "|UT   |Orange|1684 |\n",
            "|NM   |Green |1682 |\n",
            "|UT   |Red   |1680 |\n",
            "|AZ   |Green |1676 |\n",
            "|NV   |Yellow|1675 |\n",
            "|NV   |Blue  |1673 |\n",
            "|WA   |Red   |1671 |\n",
            "|WY   |Red   |1670 |\n",
            "|WA   |Brown |1669 |\n",
            "|NM   |Orange|1665 |\n",
            "|WY   |Blue  |1664 |\n",
            "+-----+------+-----+\n",
            "only showing top 30 rows\n",
            "\n",
            "Total Rows=60\n"
          ],
          "name": "stdout"
        }
      ]
    },
    {
      "cell_type": "code",
      "metadata": {
        "id": "2Ub8e-xqXByg",
        "colab": {
          "base_uri": "https://localhost:8080/"
        },
        "outputId": "fb572675-34d6-4d82-d416-56f37750f274"
      },
      "source": [
        "mnm_df.select(\"*\").where(mnm_df.State == \"CA\").groupBy(\"State\", \"Color\").agg(count(\"Count\").alias(\"Total\")).orderBy(\"Total\", ascending=False).show()"
      ],
      "execution_count": 22,
      "outputs": [
        {
          "output_type": "stream",
          "text": [
            "+-----+------+-----+\n",
            "|State| Color|Total|\n",
            "+-----+------+-----+\n",
            "|   CA|Yellow| 1807|\n",
            "|   CA| Green| 1723|\n",
            "|   CA| Brown| 1718|\n",
            "|   CA|Orange| 1657|\n",
            "|   CA|   Red| 1656|\n",
            "|   CA|  Blue| 1603|\n",
            "+-----+------+-----+\n",
            "\n"
          ],
          "name": "stdout"
        }
      ]
    }
  ]
}