{
  "nbformat": 4,
  "nbformat_minor": 0,
  "metadata": {
    "colab": {
      "name": "Data_types_definingDataFrame.ipynb",
      "provenance": [],
      "authorship_tag": "ABX9TyOq0JxdJ4SXbF8P2+GNgzOi",
      "include_colab_link": true
    },
    "kernelspec": {
      "name": "python3",
      "display_name": "Python 3"
    },
    "language_info": {
      "name": "python"
    }
  },
  "cells": [
    {
      "cell_type": "markdown",
      "metadata": {
        "id": "view-in-github",
        "colab_type": "text"
      },
      "source": [
        "<a href=\"https://colab.research.google.com/github/sanat259/SparkPractice/blob/main/Data_types_definingDataFrame.ipynb\" target=\"_parent\"><img src=\"https://colab.research.google.com/assets/colab-badge.svg\" alt=\"Open In Colab\"/></a>"
      ]
    },
    {
      "cell_type": "code",
      "metadata": {
        "colab": {
          "base_uri": "https://localhost:8080/"
        },
        "id": "iJ-DXPGhoKzY",
        "outputId": "52a8db25-4ad6-4e85-f363-4d77c5a5f58b"
      },
      "source": [
        "!pip install pyspark\n"
      ],
      "execution_count": 1,
      "outputs": [
        {
          "output_type": "stream",
          "text": [
            "Collecting pyspark\n",
            "\u001b[?25l  Downloading https://files.pythonhosted.org/packages/45/b0/9d6860891ab14a39d4bddf80ba26ce51c2f9dc4805e5c6978ac0472c120a/pyspark-3.1.1.tar.gz (212.3MB)\n",
            "\u001b[K     |████████████████████████████████| 212.3MB 68kB/s \n",
            "\u001b[?25hCollecting py4j==0.10.9\n",
            "\u001b[?25l  Downloading https://files.pythonhosted.org/packages/9e/b6/6a4fb90cd235dc8e265a6a2067f2a2c99f0d91787f06aca4bcf7c23f3f80/py4j-0.10.9-py2.py3-none-any.whl (198kB)\n",
            "\u001b[K     |████████████████████████████████| 204kB 42.9MB/s \n",
            "\u001b[?25hBuilding wheels for collected packages: pyspark\n",
            "  Building wheel for pyspark (setup.py) ... \u001b[?25l\u001b[?25hdone\n",
            "  Created wheel for pyspark: filename=pyspark-3.1.1-py2.py3-none-any.whl size=212767604 sha256=63797be2c04fc57b5789fc4f7e8fd482fb1683c93d5d59636d1add9fd41f8959\n",
            "  Stored in directory: /root/.cache/pip/wheels/0b/90/c0/01de724414ef122bd05f056541fb6a0ecf47c7ca655f8b3c0f\n",
            "Successfully built pyspark\n",
            "Installing collected packages: py4j, pyspark\n",
            "Successfully installed py4j-0.10.9 pyspark-3.1.1\n"
          ],
          "name": "stdout"
        }
      ]
    },
    {
      "cell_type": "code",
      "metadata": {
        "id": "dlfjLkGnoOjk"
      },
      "source": [
        "\n",
        "import sys\n",
        "from pyspark.sql import SparkSession\n",
        "from pyspark.sql.functions import count\n",
        "from pyspark import SparkFiles"
      ],
      "execution_count": 2,
      "outputs": []
    },
    {
      "cell_type": "code",
      "metadata": {
        "id": "1hbr74maoYVs"
      },
      "source": [
        "spark = SparkSession.builder.appName(\"Data Spark\").getOrCreate()\n"
      ],
      "execution_count": 3,
      "outputs": []
    },
    {
      "cell_type": "markdown",
      "metadata": {
        "id": "Nx6GVGaSoufF"
      },
      "source": [
        "Defining schema rather than schema on read is useful because:\n",
        "*   You prevent Spark from creating a separate job just to read a large portion of your file to ascertain the schema, which for a large data file can be expensive and time-consuming.\n",
        "* You relieve Spark from the onus of inferring data types.\n",
        "* You can detect errors early if data doesn’t match the schema.\n",
        "\n",
        "Declaring schema can be done either programatically as below or in similar way like DDL in SQL."
      ]
    },
    {
      "cell_type": "code",
      "metadata": {
        "id": "mRd10I1SoeAm"
      },
      "source": [
        "#programatic declaration\n",
        "from pyspark.sql.types import *\n",
        "\n",
        "schema = StructType([StructField(\"author\", StringType(), False),\n",
        "StructField(\"title\", StringType(), False),\n",
        "StructField(\"pages\", IntegerType(), False)])"
      ],
      "execution_count": 4,
      "outputs": []
    },
    {
      "cell_type": "code",
      "metadata": {
        "colab": {
          "base_uri": "https://localhost:8080/"
        },
        "id": "6gXMfIq4pTwL",
        "outputId": "f914178b-2236-4d5a-a0a6-a0f86584a449"
      },
      "source": [
        "schema"
      ],
      "execution_count": 5,
      "outputs": [
        {
          "output_type": "execute_result",
          "data": {
            "text/plain": [
              "StructType(List(StructField(author,StringType,false),StructField(title,StringType,false),StructField(pages,IntegerType,false)))"
            ]
          },
          "metadata": {
            "tags": []
          },
          "execution_count": 5
        }
      ]
    },
    {
      "cell_type": "code",
      "metadata": {
        "id": "bTuoY6uTpWQb"
      },
      "source": [
        "#DDL declaration\n",
        "schema2 = \"`Id` INT, `First` STRING, `Last` STRING, `Url` STRING,`Published` STRING, `Hits` INT, `Campaigns` ARRAY<STRING>\""
      ],
      "execution_count": 8,
      "outputs": []
    },
    {
      "cell_type": "code",
      "metadata": {
        "colab": {
          "base_uri": "https://localhost:8080/",
          "height": 36
        },
        "id": "sM6Q2g-Sp5Tz",
        "outputId": "0a212195-a36d-475a-ebf2-10e46022b6de"
      },
      "source": [
        "schema2"
      ],
      "execution_count": 9,
      "outputs": [
        {
          "output_type": "execute_result",
          "data": {
            "application/vnd.google.colaboratory.intrinsic+json": {
              "type": "string"
            },
            "text/plain": [
              "'`Id` INT, `First` STRING, `Last` STRING, `Url` STRING,`Published` STRING, `Hits` INT, `Campaigns` ARRAY<STRING>'"
            ]
          },
          "metadata": {
            "tags": []
          },
          "execution_count": 9
        }
      ]
    },
    {
      "cell_type": "code",
      "metadata": {
        "id": "I5NQGaBLp64_"
      },
      "source": [
        "# Create our static data\n",
        "data = [[1, \"Jules\", \"Damji\", \"https://tinyurl.1\", \"1/4/2016\", 4535, [\"twitter\",\"LinkedIn\"]],\n",
        "[2, \"Brooke\",\"Wenig\", \"https://tinyurl.2\", \"5/5/2018\", 8908, [\"twitter\",\n",
        "\"LinkedIn\"]],\n",
        "[3, \"Denny\", \"Lee\", \"https://tinyurl.3\", \"6/7/2019\", 7659, [\"web\",\n",
        "\"twitter\", \"FB\", \"LinkedIn\"]],\n",
        "[4, \"Tathagata\", \"Das\", \"https://tinyurl.4\", \"5/12/2018\", 10568,\n",
        "[\"twitter\", \"FB\"]],\n",
        "[5, \"Matei\",\"Zaharia\", \"https://tinyurl.5\", \"5/14/2014\", 40578, [\"web\",\n",
        "\"twitter\", \"FB\", \"LinkedIn\"]],\n",
        "[6, \"Reynold\", \"Xin\", \"https://tinyurl.6\", \"3/2/2015\", 25568,\n",
        "[\"twitter\", \"LinkedIn\"]]\n",
        "]"
      ],
      "execution_count": 10,
      "outputs": []
    },
    {
      "cell_type": "code",
      "metadata": {
        "colab": {
          "base_uri": "https://localhost:8080/"
        },
        "id": "mjehmIcwqQWM",
        "outputId": "2c9ddae4-3fb9-4dad-80d1-529e5efc0403"
      },
      "source": [
        "data"
      ],
      "execution_count": 11,
      "outputs": [
        {
          "output_type": "execute_result",
          "data": {
            "text/plain": [
              "[[1,\n",
              "  'Jules',\n",
              "  'Damji',\n",
              "  'https://tinyurl.1',\n",
              "  '1/4/2016',\n",
              "  4535,\n",
              "  ['twitter', 'LinkedIn']],\n",
              " [2,\n",
              "  'Brooke',\n",
              "  'Wenig',\n",
              "  'https://tinyurl.2',\n",
              "  '5/5/2018',\n",
              "  8908,\n",
              "  ['twitter', 'LinkedIn']],\n",
              " [3,\n",
              "  'Denny',\n",
              "  'Lee',\n",
              "  'https://tinyurl.3',\n",
              "  '6/7/2019',\n",
              "  7659,\n",
              "  ['web', 'twitter', 'FB', 'LinkedIn']],\n",
              " [4,\n",
              "  'Tathagata',\n",
              "  'Das',\n",
              "  'https://tinyurl.4',\n",
              "  '5/12/2018',\n",
              "  10568,\n",
              "  ['twitter', 'FB']],\n",
              " [5,\n",
              "  'Matei',\n",
              "  'Zaharia',\n",
              "  'https://tinyurl.5',\n",
              "  '5/14/2014',\n",
              "  40578,\n",
              "  ['web', 'twitter', 'FB', 'LinkedIn']],\n",
              " [6,\n",
              "  'Reynold',\n",
              "  'Xin',\n",
              "  'https://tinyurl.6',\n",
              "  '3/2/2015',\n",
              "  25568,\n",
              "  ['twitter', 'LinkedIn']]]"
            ]
          },
          "metadata": {
            "tags": []
          },
          "execution_count": 11
        }
      ]
    },
    {
      "cell_type": "code",
      "metadata": {
        "id": "BvJ5Ok18qRXR"
      },
      "source": [
        "blogs_df= spark.createDataFrame(schema=schema2, data=data)"
      ],
      "execution_count": 12,
      "outputs": []
    },
    {
      "cell_type": "code",
      "metadata": {
        "colab": {
          "base_uri": "https://localhost:8080/"
        },
        "id": "TFTcKCx-qgNJ",
        "outputId": "16ac0cd0-6722-4e2a-ac43-041f871612b7"
      },
      "source": [
        "blogs_df.show()"
      ],
      "execution_count": 13,
      "outputs": [
        {
          "output_type": "stream",
          "text": [
            "+---+---------+-------+-----------------+---------+-----+--------------------+\n",
            "| Id|    First|   Last|              Url|Published| Hits|           Campaigns|\n",
            "+---+---------+-------+-----------------+---------+-----+--------------------+\n",
            "|  1|    Jules|  Damji|https://tinyurl.1| 1/4/2016| 4535| [twitter, LinkedIn]|\n",
            "|  2|   Brooke|  Wenig|https://tinyurl.2| 5/5/2018| 8908| [twitter, LinkedIn]|\n",
            "|  3|    Denny|    Lee|https://tinyurl.3| 6/7/2019| 7659|[web, twitter, FB...|\n",
            "|  4|Tathagata|    Das|https://tinyurl.4|5/12/2018|10568|       [twitter, FB]|\n",
            "|  5|    Matei|Zaharia|https://tinyurl.5|5/14/2014|40578|[web, twitter, FB...|\n",
            "|  6|  Reynold|    Xin|https://tinyurl.6| 3/2/2015|25568| [twitter, LinkedIn]|\n",
            "+---+---------+-------+-----------------+---------+-----+--------------------+\n",
            "\n"
          ],
          "name": "stdout"
        }
      ]
    },
    {
      "cell_type": "code",
      "metadata": {
        "colab": {
          "base_uri": "https://localhost:8080/"
        },
        "id": "5Xc-8h1uqjYv",
        "outputId": "6fef11ce-242c-4c67-d106-8c9e210cf657"
      },
      "source": [
        "blogs_df.printSchema()"
      ],
      "execution_count": 14,
      "outputs": [
        {
          "output_type": "stream",
          "text": [
            "root\n",
            " |-- Id: integer (nullable = true)\n",
            " |-- First: string (nullable = true)\n",
            " |-- Last: string (nullable = true)\n",
            " |-- Url: string (nullable = true)\n",
            " |-- Published: string (nullable = true)\n",
            " |-- Hits: integer (nullable = true)\n",
            " |-- Campaigns: array (nullable = true)\n",
            " |    |-- element: string (containsNull = true)\n",
            "\n"
          ],
          "name": "stdout"
        }
      ]
    },
    {
      "cell_type": "code",
      "metadata": {
        "id": "D3aFng_vqsIy"
      },
      "source": [
        "blogs_df.write.format(\"json\").save(\"my_blogs_dfv.json\")\n"
      ],
      "execution_count": 19,
      "outputs": []
    }
  ]
}